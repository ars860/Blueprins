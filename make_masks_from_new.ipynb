{
 "cells": [
  {
   "cell_type": "code",
   "execution_count": 1,
   "metadata": {
    "collapsed": true
   },
   "outputs": [],
   "source": [
    "import zipfile\n",
    "from os.path import basename, splitext\n",
    "from pathlib import Path\n",
    "from tempfile import TemporaryFile\n",
    "\n",
    "import matplotlib.pyplot as plt\n",
    "import numpy as np\n",
    "\n",
    "projs_dir = Path() / \"blueprints\" / \"new\" / \"projs\"\n",
    "channels_3456_dir = Path() / \"blueprints\" / \"new\" / \"npy\"\n",
    "channels_7_dir = Path() / \"blueprints\" / \"new\" / \"razryv\"\n",
    "channels_10_dir = Path() / \"blueprints\" / \"new\" / \"razryv_area\"\n",
    "results_dir = Path() / \"blueprints\" / \"new\" / \"mask.zip\""
   ]
  },
  {
   "cell_type": "code",
   "execution_count": 2,
   "outputs": [
    {
     "name": "stdout",
     "output_type": "stream",
     "text": [
      "176/177\r"
     ]
    }
   ],
   "source": [
    "def fname(path):\n",
    "    return splitext(basename(path))[0]\n",
    "\n",
    "with zipfile.ZipFile(results_dir, 'w', zipfile.ZIP_DEFLATED) as mask_file:\n",
    "    length = len(list(projs_dir.glob('*')))\n",
    "\n",
    "    for i, proj in enumerate(sorted(projs_dir.glob('*'))):\n",
    "        # names = list(map(fname, [proj, ch_3456, ch_7, ch_3456]))\n",
    "        #\n",
    "        # if not names[0] == names[1] == names[2] == names[3]:\n",
    "        #     raise ValueError('wtf bro', names)\n",
    "\n",
    "        ch_3456 = channels_3456_dir / f'{fname(proj)}.npy'\n",
    "        ch_7 = channels_7_dir / f'{fname(proj)}.npy'\n",
    "        ch_10 = channels_10_dir / f'{fname(proj)}.npy'\n",
    "\n",
    "        name = proj\n",
    "        ch_3456 = np.load(ch_3456) if ch_3456.exists() else ch_3456\n",
    "        ch_7 = np.load(ch_7) if ch_7.exists() else ch_7\n",
    "        ch_10 = np.load(ch_10) if ch_10.exists() else ch_10\n",
    "\n",
    "        placeholder = np.zeros_like(ch_3456 if not isinstance(ch_3456, str) else ch_7 if not isinstance(ch_7, str) else ch_10)\n",
    "        if isinstance(ch_3456, Path):\n",
    "            ch_3456 = placeholder\n",
    "        if isinstance(ch_7, Path):\n",
    "            ch_7 = placeholder\n",
    "        if isinstance(ch_10, Path):\n",
    "            ch_10 = placeholder\n",
    "\n",
    "        ch_3456 = np.stack([(ch_3456 == i).astype(float) for i in range(3, 7)])\n",
    "\n",
    "        # print(np.max(ch_3456))\n",
    "\n",
    "        # for ch in ch_3456:\n",
    "        # fig, ax = plt.subplots(1, 6)\n",
    "        # ax[0].imshow(ch_3456[0])\n",
    "        # ax[1].imshow(ch_3456[1])\n",
    "        # ax[2].imshow(ch_3456[2])\n",
    "        # ax[3].imshow(ch_3456[3])\n",
    "        # ax[4].imshow(ch_7)\n",
    "        # ax[5].imshow(ch_10)\n",
    "        # plt.show()\n",
    "\n",
    "        res = np.stack([\n",
    "            ch_3456[0],\n",
    "            ch_3456[1],\n",
    "            ch_3456[2],\n",
    "            ch_3456[3],\n",
    "            ch_7,\n",
    "            ch_10\n",
    "        ])\n",
    "\n",
    "        # print(res.shape)\n",
    "\n",
    "        with TemporaryFile() as numpy_temp:\n",
    "            np.save(numpy_temp, res)\n",
    "            numpy_temp.seek(0)\n",
    "            mask_file.writestr(f'mask/{fname(name)}.npy', numpy_temp.read())\n",
    "\n",
    "        # if i == 5:\n",
    "        #     break\n",
    "        print(f'{i}/{length}', end='\\r')"
   ],
   "metadata": {
    "collapsed": false,
    "pycharm": {
     "name": "#%%\n"
    }
   }
  }
 ],
 "metadata": {
  "kernelspec": {
   "display_name": "Python 3",
   "language": "python",
   "name": "python3"
  },
  "language_info": {
   "codemirror_mode": {
    "name": "ipython",
    "version": 2
   },
   "file_extension": ".py",
   "mimetype": "text/x-python",
   "name": "python",
   "nbconvert_exporter": "python",
   "pygments_lexer": "ipython2",
   "version": "2.7.6"
  }
 },
 "nbformat": 4,
 "nbformat_minor": 0
}