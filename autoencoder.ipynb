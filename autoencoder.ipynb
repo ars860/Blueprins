{
 "cells": [
  {
   "cell_type": "code",
   "execution_count": null,
   "metadata": {
    "collapsed": true
   },
   "outputs": [],
   "source": [
    "import matplotlib.pyplot as plt\n",
    "import torch\n",
    "\n",
    "from dataset import get_dataloaders_unsupervised\n",
    "from unet import Unet\n",
    "\n",
    "device = 'cuda'\n",
    "model = Unet(layers=[8, 16, 32, 64, 128], output_channels=11).to(device)\n",
    "\n",
    "model.load_state_dict(torch.load('learned_models/no_skip/autoencoder/1e-4_10epochs.pt'))\n",
    "\n",
    "_, dataloader_train, _, dataloader_test = get_dataloaders_unsupervised()\n",
    "\n",
    "def plot_single(img):\n",
    "    fig, (ax1, ax2) = plt.subplots(1, 2)\n",
    "\n",
    "    ax1.show(model(img).squeeze())\n",
    "    # ax2.\n",
    "    #TODO"
   ]
  }
 ],
 "metadata": {
  "kernelspec": {
   "display_name": "Python 3",
   "language": "python",
   "name": "python3"
  },
  "language_info": {
   "codemirror_mode": {
    "name": "ipython",
    "version": 2
   },
   "file_extension": ".py",
   "mimetype": "text/x-python",
   "name": "python",
   "nbconvert_exporter": "python",
   "pygments_lexer": "ipython2",
   "version": "2.7.6"
  }
 },
 "nbformat": 4,
 "nbformat_minor": 0
}