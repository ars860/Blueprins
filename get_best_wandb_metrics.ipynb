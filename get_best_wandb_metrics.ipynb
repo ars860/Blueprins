{
 "cells": [
  {
   "cell_type": "code",
   "execution_count": 1,
   "metadata": {
    "collapsed": true
   },
   "outputs": [],
   "source": [
    "from pathlib import Path\n",
    "\n",
    "import numpy as np\n",
    "import wandb\n",
    "import pandas\n",
    "\n",
    "def get_best_ious(fname, filter_f=lambda x: True):\n",
    "    table = pandas.read_csv(Path() / \"run_ids\" / fname)\n",
    "    ids = list(table[\"ID\"])\n",
    "\n",
    "    best_ious = {}\n",
    "    for id in ids:\n",
    "        api = wandb.Api()\n",
    "        run = api.run(f\"ars860/diplom_segmentation/{id}\")\n",
    "        history = run.history()\n",
    "        if filter_f(run):\n",
    "            test_ious = np.array(history[\"test_iou\"])\n",
    "            best_ious[id] = np.max(test_ious)\n",
    "\n",
    "    return best_ious"
   ]
  },
  {
   "cell_type": "code",
   "execution_count": 2,
   "outputs": [],
   "source": [
    "transfer_best_ious = get_best_ious('last_sweep.csv', lambda run: 'random_decoder' not in run.config[\"config\"])"
   ],
   "metadata": {
    "collapsed": false,
    "pycharm": {
     "name": "#%%\n"
    }
   }
  },
  {
   "cell_type": "code",
   "execution_count": 3,
   "outputs": [],
   "source": [
    "transfer_best_iou = max(transfer_best_ious.values())"
   ],
   "metadata": {
    "collapsed": false,
    "pycharm": {
     "name": "#%%\n"
    }
   }
  },
  {
   "cell_type": "code",
   "execution_count": 14,
   "outputs": [],
   "source": [
    "no_transfer_best_ious = get_best_ious('no_transfer_sweep.csv')"
   ],
   "metadata": {
    "collapsed": false,
    "pycharm": {
     "name": "#%%\n"
    }
   }
  },
  {
   "cell_type": "code",
   "execution_count": 15,
   "outputs": [],
   "source": [
    "no_transfer_best_iou = max(no_transfer_best_ious.values())"
   ],
   "metadata": {
    "collapsed": false,
    "pycharm": {
     "name": "#%%\n"
    }
   }
  },
  {
   "cell_type": "code",
   "execution_count": 18,
   "outputs": [
    {
     "data": {
      "text/plain": "(0.5485596814089351, 0.5622047533591589)"
     },
     "execution_count": 18,
     "metadata": {},
     "output_type": "execute_result"
    }
   ],
   "source": [
    "transfer_best_iou, no_transfer_best_iou"
   ],
   "metadata": {
    "collapsed": false,
    "pycharm": {
     "name": "#%%\n"
    }
   }
  }
 ],
 "metadata": {
  "kernelspec": {
   "display_name": "Python 3",
   "language": "python",
   "name": "python3"
  },
  "language_info": {
   "codemirror_mode": {
    "name": "ipython",
    "version": 2
   },
   "file_extension": ".py",
   "mimetype": "text/x-python",
   "name": "python",
   "nbconvert_exporter": "python",
   "pygments_lexer": "ipython2",
   "version": "2.7.6"
  }
 },
 "nbformat": 4,
 "nbformat_minor": 0
}